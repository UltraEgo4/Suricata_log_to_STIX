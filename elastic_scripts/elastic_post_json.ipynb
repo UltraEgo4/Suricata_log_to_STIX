{
 "cells": [
  {
   "cell_type": "code",
   "execution_count": 8,
   "metadata": {},
   "outputs": [],
   "source": [
    "import json\n",
    "from elasticsearch import Elasticsearch"
   ]
  },
  {
   "cell_type": "code",
   "execution_count": 9,
   "metadata": {},
   "outputs": [
    {
     "name": "stdout",
     "output_type": "stream",
     "text": [
      "True\n"
     ]
    },
    {
     "name": "stderr",
     "output_type": "stream",
     "text": [
      "/tmp/ipykernel_90625/2058731228.py:1: DeprecationWarning: The 'timeout' parameter is deprecated in favor of 'request_timeout'\n",
      "  client = Elasticsearch(hosts=[\"http://192.168.1.235:9200\"], timeout=10000)\n"
     ]
    }
   ],
   "source": [
    "client = Elasticsearch(hosts=[\"http://192.168.1.235:9200\"], timeout=10000)\n",
    "\n",
    "client.info\n",
    "print(client.ping())"
   ]
  },
  {
   "cell_type": "code",
   "execution_count": 10,
   "metadata": {},
   "outputs": [],
   "source": [
    "import json\n",
    "\n",
    "with open('/home/spacepirate/Programing/projects/SuricataToStix/alerts/output.json') as scan_json1:\n",
    "    scan_json = json.load(scan_json1)\n",
    "    #print(scan_json['data'])"
   ]
  },
  {
   "cell_type": "code",
   "execution_count": 11,
   "metadata": {},
   "outputs": [],
   "source": [
    "#client.indices.delete(index=\"test_index\")\n",
    "#client.indices.create(index=\"test_index\")\n"
   ]
  },
  {
   "cell_type": "code",
   "execution_count": 12,
   "metadata": {},
   "outputs": [
    {
     "name": "stdout",
     "output_type": "stream",
     "text": [
      "{'type': 'indicator', 'spec_version': '2.1', 'id': 'indicator--6e70f3bf-3ff2-49fb-8721-055d9e5748ab', 'created': '2015-03-21T08:20:25.82132Z', 'modified': '2015-03-21T08:20:25.82132Z', 'name': 'ET CINS Active Threat Intelligence Poor Reputation IP group 100', 'description': 'Misc Attack', 'indicator_types': ['malicious-activity'], 'pattern': 'alert http any any -> any any (msg:\"SURICATA HTTP unable to match response to request\"; flow:established,to_client; app-layer-event:http.unable_to_match_response_to_request; flowint:http.anomaly.count,+,1; classtype:protocol-command-decode; sid:2221010; rev:1;)', 'pattern_type': 'suricata', 'valid_from': '2023-12-07T22:28:07.615507Z'}\n",
      "indicator--6e70f3bf-3ff2-49fb-8721-055d9e5748ab\n",
      "{'type': 'incident', 'spec_version': '2.1', 'id': 'incident--56dc6c32-3ba8-4250-8024-ee1164edbf8e', 'created': '2015-03-21T08:20:25.82132Z', 'modified': '2015-03-21T08:20:25.82132Z', 'name': 'ET CINS Active Threat Intelligence Poor Reputation IP group 100'}\n",
      "incident--56dc6c32-3ba8-4250-8024-ee1164edbf8e\n",
      "{'type': 'relationship', 'spec_version': '2.1', 'id': 'relationship--adbd3a2a-b441-4286-b4bb-b8925c351159', 'created': '2023-12-07T22:28:07.615507Z', 'modified': '2023-12-07T22:28:07.615507Z', 'relationship_type': 'related-to', 'source_ref': 'indicator--6e70f3bf-3ff2-49fb-8721-055d9e5748ab', 'target_ref': 'incident--56dc6c32-3ba8-4250-8024-ee1164edbf8e'}\n",
      "relationship--adbd3a2a-b441-4286-b4bb-b8925c351159\n",
      "{'type': 'ipv4-addr', 'spec_version': '2.1', 'id': 'ipv4-addr--380fcf08-7bc2-5964-b35a-edb963e3dc50', 'value': '93.174.93.218'}\n",
      "ipv4-addr--380fcf08-7bc2-5964-b35a-edb963e3dc50\n",
      "{'type': 'ipv4-addr', 'spec_version': '2.1', 'id': 'ipv4-addr--37a6ba64-2e21-5f97-915c-6db92daf3888', 'value': '192.168.0.2'}\n",
      "ipv4-addr--37a6ba64-2e21-5f97-915c-6db92daf3888\n",
      "{'type': 'network-traffic', 'spec_version': '2.1', 'id': 'network-traffic--0f2aeb2c-0250-5ab0-855b-f13c33d6a848', 'start': '2015-03-21T08:20:25.82132Z', 'src_ref': 'ipv4-addr--380fcf08-7bc2-5964-b35a-edb963e3dc50', 'dst_ref': 'ipv4-addr--37a6ba64-2e21-5f97-915c-6db92daf3888', 'src_port': 54075, 'dst_port': 80, 'protocols': ['ipv4', 'TCP'], 'src_byte_count': 64, 'dst_byte_count': 0, 'src_packets': 1, 'dst_packets': 0, 'extensions': {'x-dns-ext': {'type': 'answer', 'id': '16000', 'flags': '8180', 'qr': True, 'rd': True, 'ra': True, 'rcode': 'NOERROR', 'rrname': 'twitter.com', 'rrtype': 'A', 'rdata': '199.16.156.6', 'ttl': 8}}}\n",
      "network-traffic--0f2aeb2c-0250-5ab0-855b-f13c33d6a848\n",
      "{'type': 'relationship', 'spec_version': '2.1', 'id': 'relationship--d343b731-70b5-4d44-908a-3e0146b8eeea', 'created': '2023-12-07T22:28:07.615507Z', 'modified': '2023-12-07T22:28:07.615507Z', 'relationship_type': 'related-to', 'source_ref': 'network-traffic--0f2aeb2c-0250-5ab0-855b-f13c33d6a848', 'target_ref': 'indicator--6e70f3bf-3ff2-49fb-8721-055d9e5748ab'}\n",
      "relationship--d343b731-70b5-4d44-908a-3e0146b8eeea\n",
      "{'type': 'relationship', 'spec_version': '2.1', 'id': 'relationship--360fc089-c577-4597-89d2-b2472dd7b9d5', 'created': '2023-12-07T22:28:07.615507Z', 'modified': '2023-12-07T22:28:07.615507Z', 'relationship_type': 'related-to', 'source_ref': 'ipv4-addr--380fcf08-7bc2-5964-b35a-edb963e3dc50', 'target_ref': 'network-traffic--0f2aeb2c-0250-5ab0-855b-f13c33d6a848'}\n",
      "relationship--360fc089-c577-4597-89d2-b2472dd7b9d5\n",
      "{'type': 'relationship', 'spec_version': '2.1', 'id': 'relationship--207dc481-f261-433c-be8b-e747a12a2f76', 'created': '2023-12-07T22:28:07.615507Z', 'modified': '2023-12-07T22:28:07.615507Z', 'relationship_type': 'related-to', 'source_ref': 'ipv4-addr--37a6ba64-2e21-5f97-915c-6db92daf3888', 'target_ref': 'network-traffic--0f2aeb2c-0250-5ab0-855b-f13c33d6a848'}\n",
      "relationship--207dc481-f261-433c-be8b-e747a12a2f76\n",
      "{'type': 'domain-name', 'spec_version': '2.1', 'id': 'domain-name--1225158e-7ab1-5d0c-bd79-6271e38781b2', 'value': 'twitter.com'}\n",
      "domain-name--1225158e-7ab1-5d0c-bd79-6271e38781b2\n"
     ]
    }
   ],
   "source": [
    "for hit in scan_json:\n",
    "    print(hit)\n",
    "    #print(type(hit))\n",
    "    resp = client.index(index='test_index', id =hit['id'], body= hit)\n",
    "    print(hit['id'])\n",
    "    #print(resp)"
   ]
  },
  {
   "cell_type": "code",
   "execution_count": 13,
   "metadata": {},
   "outputs": [
    {
     "data": {
      "text/plain": [
       "ObjectApiResponse({'_shards': {'total': 4, 'successful': 2, 'failed': 0}})"
      ]
     },
     "execution_count": 13,
     "metadata": {},
     "output_type": "execute_result"
    }
   ],
   "source": [
    "client.indices.refresh()"
   ]
  },
  {
   "cell_type": "code",
   "execution_count": 14,
   "metadata": {},
   "outputs": [
    {
     "name": "stdout",
     "output_type": "stream",
     "text": [
      "Got 10 Hits:\n",
      "{\n",
      "    \"type\": \"indicator\",\n",
      "    \"spec_version\": \"2.1\",\n",
      "    \"id\": \"indicator--6e70f3bf-3ff2-49fb-8721-055d9e5748ab\",\n",
      "    \"created\": \"2015-03-21T08:20:25.82132Z\",\n",
      "    \"modified\": \"2015-03-21T08:20:25.82132Z\",\n",
      "    \"name\": \"ET CINS Active Threat Intelligence Poor Reputation IP group 100\",\n",
      "    \"description\": \"Misc Attack\",\n",
      "    \"indicator_types\": [\n",
      "        \"malicious-activity\"\n",
      "    ],\n",
      "    \"pattern\": \"alert http any any -> any any (msg:\\\"SURICATA HTTP unable to match response to request\\\"; flow:established,to_client; app-layer-event:http.unable_to_match_response_to_request; flowint:http.anomaly.count,+,1; classtype:protocol-command-decode; sid:2221010; rev:1;)\",\n",
      "    \"pattern_type\": \"suricata\",\n",
      "    \"valid_from\": \"2023-12-07T22:28:07.615507Z\"\n",
      "}\n",
      "\n",
      "{\n",
      "    \"type\": \"incident\",\n",
      "    \"spec_version\": \"2.1\",\n",
      "    \"id\": \"incident--56dc6c32-3ba8-4250-8024-ee1164edbf8e\",\n",
      "    \"created\": \"2015-03-21T08:20:25.82132Z\",\n",
      "    \"modified\": \"2015-03-21T08:20:25.82132Z\",\n",
      "    \"name\": \"ET CINS Active Threat Intelligence Poor Reputation IP group 100\"\n",
      "}\n",
      "\n",
      "{\n",
      "    \"type\": \"relationship\",\n",
      "    \"spec_version\": \"2.1\",\n",
      "    \"id\": \"relationship--adbd3a2a-b441-4286-b4bb-b8925c351159\",\n",
      "    \"created\": \"2023-12-07T22:28:07.615507Z\",\n",
      "    \"modified\": \"2023-12-07T22:28:07.615507Z\",\n",
      "    \"relationship_type\": \"related-to\",\n",
      "    \"source_ref\": \"indicator--6e70f3bf-3ff2-49fb-8721-055d9e5748ab\",\n",
      "    \"target_ref\": \"incident--56dc6c32-3ba8-4250-8024-ee1164edbf8e\"\n",
      "}\n",
      "\n",
      "{\n",
      "    \"type\": \"ipv4-addr\",\n",
      "    \"spec_version\": \"2.1\",\n",
      "    \"id\": \"ipv4-addr--380fcf08-7bc2-5964-b35a-edb963e3dc50\",\n",
      "    \"value\": \"93.174.93.218\"\n",
      "}\n",
      "\n",
      "{\n",
      "    \"type\": \"ipv4-addr\",\n",
      "    \"spec_version\": \"2.1\",\n",
      "    \"id\": \"ipv4-addr--37a6ba64-2e21-5f97-915c-6db92daf3888\",\n",
      "    \"value\": \"192.168.0.2\"\n",
      "}\n",
      "\n",
      "{\n",
      "    \"type\": \"network-traffic\",\n",
      "    \"spec_version\": \"2.1\",\n",
      "    \"id\": \"network-traffic--0f2aeb2c-0250-5ab0-855b-f13c33d6a848\",\n",
      "    \"start\": \"2015-03-21T08:20:25.82132Z\",\n",
      "    \"src_ref\": \"ipv4-addr--380fcf08-7bc2-5964-b35a-edb963e3dc50\",\n",
      "    \"dst_ref\": \"ipv4-addr--37a6ba64-2e21-5f97-915c-6db92daf3888\",\n",
      "    \"src_port\": 54075,\n",
      "    \"dst_port\": 80,\n",
      "    \"protocols\": [\n",
      "        \"ipv4\",\n",
      "        \"TCP\"\n",
      "    ],\n",
      "    \"src_byte_count\": 64,\n",
      "    \"dst_byte_count\": 0,\n",
      "    \"src_packets\": 1,\n",
      "    \"dst_packets\": 0,\n",
      "    \"extensions\": {\n",
      "        \"x-dns-ext\": {\n",
      "            \"type\": \"answer\",\n",
      "            \"id\": \"16000\",\n",
      "            \"flags\": \"8180\",\n",
      "            \"qr\": true,\n",
      "            \"rd\": true,\n",
      "            \"ra\": true,\n",
      "            \"rcode\": \"NOERROR\",\n",
      "            \"rrname\": \"twitter.com\",\n",
      "            \"rrtype\": \"A\",\n",
      "            \"rdata\": \"199.16.156.6\",\n",
      "            \"ttl\": 8\n",
      "        }\n",
      "    }\n",
      "}\n",
      "\n",
      "{\n",
      "    \"type\": \"relationship\",\n",
      "    \"spec_version\": \"2.1\",\n",
      "    \"id\": \"relationship--d343b731-70b5-4d44-908a-3e0146b8eeea\",\n",
      "    \"created\": \"2023-12-07T22:28:07.615507Z\",\n",
      "    \"modified\": \"2023-12-07T22:28:07.615507Z\",\n",
      "    \"relationship_type\": \"related-to\",\n",
      "    \"source_ref\": \"network-traffic--0f2aeb2c-0250-5ab0-855b-f13c33d6a848\",\n",
      "    \"target_ref\": \"indicator--6e70f3bf-3ff2-49fb-8721-055d9e5748ab\"\n",
      "}\n",
      "\n",
      "{\n",
      "    \"type\": \"relationship\",\n",
      "    \"spec_version\": \"2.1\",\n",
      "    \"id\": \"relationship--360fc089-c577-4597-89d2-b2472dd7b9d5\",\n",
      "    \"created\": \"2023-12-07T22:28:07.615507Z\",\n",
      "    \"modified\": \"2023-12-07T22:28:07.615507Z\",\n",
      "    \"relationship_type\": \"related-to\",\n",
      "    \"source_ref\": \"ipv4-addr--380fcf08-7bc2-5964-b35a-edb963e3dc50\",\n",
      "    \"target_ref\": \"network-traffic--0f2aeb2c-0250-5ab0-855b-f13c33d6a848\"\n",
      "}\n",
      "\n",
      "{\n",
      "    \"type\": \"relationship\",\n",
      "    \"spec_version\": \"2.1\",\n",
      "    \"id\": \"relationship--207dc481-f261-433c-be8b-e747a12a2f76\",\n",
      "    \"created\": \"2023-12-07T22:28:07.615507Z\",\n",
      "    \"modified\": \"2023-12-07T22:28:07.615507Z\",\n",
      "    \"relationship_type\": \"related-to\",\n",
      "    \"source_ref\": \"ipv4-addr--37a6ba64-2e21-5f97-915c-6db92daf3888\",\n",
      "    \"target_ref\": \"network-traffic--0f2aeb2c-0250-5ab0-855b-f13c33d6a848\"\n",
      "}\n",
      "\n",
      "{\n",
      "    \"type\": \"domain-name\",\n",
      "    \"spec_version\": \"2.1\",\n",
      "    \"id\": \"domain-name--1225158e-7ab1-5d0c-bd79-6271e38781b2\",\n",
      "    \"value\": \"twitter.com\"\n",
      "}\n",
      "\n"
     ]
    }
   ],
   "source": [
    "#QUERRY INDEX\n",
    "resp_test_index =client.search(index=\"test_index\", body={\"query\": {\"match_all\": {}},\"size\":50})\n",
    "print(\"Got %d Hits:\" % resp_test_index['hits']['total']['value'])\n",
    "for hit in resp_test_index['hits']['hits']:\n",
    "    json_output = json.dumps(hit[\"_source\"], indent=4)\n",
    "    print(json_output)\n",
    "    print()\n",
    "    #print( hit[\"_source\"])\n",
    "#QUERRY INDEX END"
   ]
  }
 ],
 "metadata": {
  "kernelspec": {
   "display_name": "Python 3",
   "language": "python",
   "name": "python3"
  },
  "language_info": {
   "codemirror_mode": {
    "name": "ipython",
    "version": 3
   },
   "file_extension": ".py",
   "mimetype": "text/x-python",
   "name": "python",
   "nbconvert_exporter": "python",
   "pygments_lexer": "ipython3",
   "version": "3.11.6"
  }
 },
 "nbformat": 4,
 "nbformat_minor": 2
}
